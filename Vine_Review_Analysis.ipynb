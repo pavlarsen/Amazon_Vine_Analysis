{
  "nbformat": 4,
  "nbformat_minor": 0,
  "metadata": {
    "colab": {
      "provenance": []
    },
    "kernelspec": {
      "name": "python3",
      "display_name": "Python 3"
    },
    "language_info": {
      "name": "python"
    }
  },
  "cells": [
    {
      "cell_type": "code",
      "execution_count": 1,
      "metadata": {
        "colab": {
          "base_uri": "https://localhost:8080/"
        },
        "id": "cvAUk8XQcFAA",
        "outputId": "e5237dab-e2ae-443a-e78f-90e461ce47d9"
      },
      "outputs": [
        {
          "output_type": "stream",
          "name": "stdout",
          "text": [
            "\r0% [Working]\r            \rGet:1 https://cloud.r-project.org/bin/linux/ubuntu focal-cran40/ InRelease [3,622 B]\n",
            "Ign:2 https://developer.download.nvidia.com/compute/machine-learning/repos/ubuntu2004/x86_64  InRelease\n",
            "Hit:3 https://developer.download.nvidia.com/compute/cuda/repos/ubuntu2004/x86_64  InRelease\n",
            "Hit:4 https://developer.download.nvidia.com/compute/machine-learning/repos/ubuntu2004/x86_64  Release\n",
            "Hit:5 http://ppa.launchpad.net/c2d4u.team/c2d4u4.0+/ubuntu focal InRelease\n",
            "Get:6 http://security.ubuntu.com/ubuntu focal-security InRelease [114 kB]\n",
            "Hit:7 http://archive.ubuntu.com/ubuntu focal InRelease\n",
            "Get:8 http://archive.ubuntu.com/ubuntu focal-updates InRelease [114 kB]\n",
            "Hit:9 http://ppa.launchpad.net/cran/libgit2/ubuntu focal InRelease\n",
            "Get:10 http://ppa.launchpad.net/deadsnakes/ppa/ubuntu focal InRelease [18.1 kB]\n",
            "Get:11 http://archive.ubuntu.com/ubuntu focal-backports InRelease [108 kB]\n",
            "Hit:12 http://ppa.launchpad.net/graphics-drivers/ppa/ubuntu focal InRelease\n",
            "Get:14 http://security.ubuntu.com/ubuntu focal-security/restricted amd64 Packages [1,882 kB]\n",
            "Get:15 http://archive.ubuntu.com/ubuntu focal-updates/main amd64 Packages [2,920 kB]\n",
            "Get:16 http://ppa.launchpad.net/deadsnakes/ppa/ubuntu focal/main amd64 Packages [29.5 kB]\n",
            "Get:17 http://security.ubuntu.com/ubuntu focal-security/main amd64 Packages [2,442 kB]\n",
            "Get:18 http://security.ubuntu.com/ubuntu focal-security/universe amd64 Packages [988 kB]\n",
            "Get:19 http://archive.ubuntu.com/ubuntu focal-updates/universe amd64 Packages [1,290 kB]\n",
            "Get:20 http://archive.ubuntu.com/ubuntu focal-updates/restricted amd64 Packages [2,009 kB]\n",
            "Fetched 11.9 MB in 8s (1,405 kB/s)\n",
            "Reading package lists... Done\n"
          ]
        }
      ],
      "source": [
        "import os\n",
        "# Find the latest version of spark 3.2 from http://www.apache.org/dist/spark/ and enter as the spark version\n",
        "# For example:\n",
        "# spark_version = 'spark-3.2.3'\n",
        "spark_version = 'spark-3.2.3'\n",
        "os.environ['SPARK_VERSION']=spark_version\n",
        "\n",
        "# Install Spark and Java\n",
        "!apt-get update\n",
        "!apt-get install openjdk-11-jdk-headless -qq > /dev/null\n",
        "!wget -q http://www.apache.org/dist/spark/$SPARK_VERSION/$SPARK_VERSION-bin-hadoop2.7.tgz\n",
        "!tar xf $SPARK_VERSION-bin-hadoop2.7.tgz\n",
        "!pip install -q findspark\n",
        "\n",
        "# Set Environment Variables\n",
        "import os\n",
        "os.environ[\"JAVA_HOME\"] = \"/usr/lib/jvm/java-11-openjdk-amd64\"\n",
        "os.environ[\"SPARK_HOME\"] = f\"/content/{spark_version}-bin-hadoop2.7\"\n",
        "\n",
        "# Start a SparkSession\n",
        "import findspark\n",
        "findspark.init()"
      ]
    },
    {
      "cell_type": "code",
      "source": [
        "# Download the Postgres driver that will allow Spark to interact with Postgres.\n",
        "!wget https://jdbc.postgresql.org/download/postgresql-42.2.16.jar"
      ],
      "metadata": {
        "colab": {
          "base_uri": "https://localhost:8080/"
        },
        "id": "Ligg2vyxcT59",
        "outputId": "64cc0d92-0a48-4ab7-f0a6-5f4790ec4946"
      },
      "execution_count": 2,
      "outputs": [
        {
          "output_type": "stream",
          "name": "stdout",
          "text": [
            "--2023-01-29 02:53:02--  https://jdbc.postgresql.org/download/postgresql-42.2.16.jar\n",
            "Resolving jdbc.postgresql.org (jdbc.postgresql.org)... 72.32.157.228, 2001:4800:3e1:1::228\n",
            "Connecting to jdbc.postgresql.org (jdbc.postgresql.org)|72.32.157.228|:443... connected.\n",
            "HTTP request sent, awaiting response... 200 OK\n",
            "Length: 1002883 (979K) [application/java-archive]\n",
            "Saving to: ‘postgresql-42.2.16.jar’\n",
            "\n",
            "\rpostgresql-42.2.16.   0%[                    ]       0  --.-KB/s               \rpostgresql-42.2.16. 100%[===================>] 979.38K  --.-KB/s    in 0.08s   \n",
            "\n",
            "2023-01-29 02:53:03 (11.7 MB/s) - ‘postgresql-42.2.16.jar’ saved [1002883/1002883]\n",
            "\n"
          ]
        }
      ]
    },
    {
      "cell_type": "code",
      "source": [
        "from pyspark.sql import SparkSession\n",
        "spark = SparkSession.builder.appName(\"M17-Amazon-Challenge\").config(\"spark.driver.extraClassPath\",\"/content/postgresql-42.2.16.jar\").getOrCreate()"
      ],
      "metadata": {
        "id": "g4Ssp6rtcVg_"
      },
      "execution_count": 3,
      "outputs": []
    },
    {
      "cell_type": "code",
      "source": [
        "from pyspark import SparkFiles\n",
        "url = \"https://s3.amazonaws.com/amazon-reviews-pds/tsv/amazon_reviews_us_Video_DVD_v1_00.tsv.gz\"\n",
        "spark.sparkContext.addFile(url)\n",
        "df = spark.read.option(\"encoding\", \"UTF-8\").csv(SparkFiles.get(\"\"), sep=\"\\t\", header=True, inferSchema=True)\n",
        "df.show()"
      ],
      "metadata": {
        "colab": {
          "base_uri": "https://localhost:8080/"
        },
        "id": "FNAZhOkEcdOD",
        "outputId": "2a17369e-666c-4a81-ceef-278ca3990c09"
      },
      "execution_count": 4,
      "outputs": [
        {
          "output_type": "stream",
          "name": "stdout",
          "text": [
            "+-----------+-----------+--------------+----------+--------------+--------------------+----------------+-----------+-------------+-----------+----+-----------------+--------------------+--------------------+-----------+\n",
            "|marketplace|customer_id|     review_id|product_id|product_parent|       product_title|product_category|star_rating|helpful_votes|total_votes|vine|verified_purchase|     review_headline|         review_body|review_date|\n",
            "+-----------+-----------+--------------+----------+--------------+--------------------+----------------+-----------+-------------+-----------+----+-----------------+--------------------+--------------------+-----------+\n",
            "|         US|   27288431| R33UPQQUZQEM8|B005T4ND06|     400024643|Yoga for Movement...|       Video DVD|          5|            3|          3|   N|                Y|This was a gift f...|This was a gift f...| 2015-08-31|\n",
            "|         US|   13722556|R3IKTNQQPD9662|B004EPZ070|     685335564|  Something Borrowed|       Video DVD|          5|            0|          0|   N|                Y|          Five Stars| Teats my heart out.| 2015-08-31|\n",
            "|         US|   20381037|R3U27V5QMCP27T|B005S9EKCW|     922008804|Les Miserables (2...|       Video DVD|          5|            1|          1|   N|                Y|        Great movie!|        Great movie.| 2015-08-31|\n",
            "|         US|   24852644|R2TOH2QKNK4IOC|B00FC1ZCB4|     326560548|Alien Anthology a...|       Video DVD|          5|            0|          1|   N|                Y|             Amazing|My husband was so...| 2015-08-31|\n",
            "|         US|   15556113|R2XQG5NJ59UFMY|B002ZG98Z0|     637495038|  Sex and the City 2|       Video DVD|          5|            0|          0|   N|                Y|          Five Stars|   Love this series.| 2015-08-31|\n",
            "|         US|    6132474|R1N1KHBRR4ZTX3|B00X8RONBO|     896602391|When Calls The He...|       Video DVD|          5|            0|          0|   N|                Y|          Five Stars|            love it!| 2015-08-31|\n",
            "|         US|   48049524|R3OM9S0TCBP38K|B000CEXFZG|     115883890|Teen Titans - The...|       Video DVD|          5|            0|          0|   N|                Y|               Great|Better than the c...| 2015-08-31|\n",
            "|         US|    3282516|R1W4S949ZRCTBW|B00ID8H8EW|     977932459|      Generation War|       Video DVD|          5|            0|          0|   N|                Y|          Five Stars|I really emjoyed ...| 2015-08-31|\n",
            "|         US|   51771179|R18JL1NNQAZFV2|B000TGJ8IU|     840084782|Troy  (Director's...|       Video DVD|          5|            0|          0|   N|                Y|          Five Stars|Awesome movie, we...| 2015-08-31|\n",
            "|         US|   31816501|R1LP6PR06OPYUX|B00DPMPTDS|     262144920|Faith Aka the Gre...|       Video DVD|          4|            0|          0|   N|                Y|a beautiful fanta...|...a beautiful fa...| 2015-08-31|\n",
            "|         US|   16164990| RZKBT035JA0UQ|B00X797LUS|     883589001|   Revenge: Season 4|       Video DVD|          5|            1|          2|   N|                Y|  It's a hit with me|I don't usually w...| 2015-08-31|\n",
            "|         US|   33386989|R253N5W74SM7N3|B00C6MXB42|     734735137|YOUNG INDIANA JON...|       Video DVD|          4|            1|          1|   N|                Y|great stuff. I th...|great stuff.  I t...| 2015-08-31|\n",
            "|         US|   45486371|R2D5IFTFPHD3RN|B000EZ9084|     821764517|     Survival Island|       Video DVD|          4|            1|          1|   N|                Y|          Four Stars|           very good| 2015-08-31|\n",
            "|         US|   14006420|R1CECK3H1URK1G|B000CEXFZG|     115883890|Teen Titans - The...|       Video DVD|          5|            0|          0|   N|                Y|          Five Stars|Kids love the DVD...| 2015-08-31|\n",
            "|         US|   23411619|R11MHQRE45204T|B00KXEM6XM|     651533797|     Fargo: Season 1|       Video DVD|          5|            0|          0|   N|                Y|A wonderful cover...|Great news Fargo ...| 2015-08-31|\n",
            "|         US|    3202332| RSX9F068J0GXJ|B0036K9CM8|     231498541|Disney Parks: The...|       Video DVD|          5|            0|          0|   N|                Y|We love Disney an...|We love Disney an...| 2015-08-31|\n",
            "|         US|   32012808|R1TUMFHZBBOWKL|B00G3HOJZ6|     847624020|Young Detective D...|       Video DVD|          5|            0|          0|   N|                Y|Excellent Movie f...|This is a surpris...| 2015-08-31|\n",
            "|         US|   36507765| R8IZ1G1TWGK0E|B00V5E7YR2|     478422254|The Divergent Ser...|       Video DVD|          5|            0|          0|   N|                Y|          Five Stars|          Good movie| 2015-08-31|\n",
            "|         US|   13696097|R1CBN0585B7BI4|B005BUA1JY|     700104332|Barney Miller: Th...|       Video DVD|          5|            0|          1|   N|                Y|          Five Stars|This show is a cl...| 2015-08-31|\n",
            "|         US|    2190805|R2PJOAZ9I3D8O8|B00YCY46VO|     710263340|Inside Out (Blu-r...|       Video DVD|          5|            2|          2|   N|                N|An Instant Master...|Inside Out revolv...| 2015-08-31|\n",
            "+-----------+-----------+--------------+----------+--------------+--------------------+----------------+-----------+-------------+-----------+----+-----------------+--------------------+--------------------+-----------+\n",
            "only showing top 20 rows\n",
            "\n"
          ]
        }
      ]
    },
    {
      "cell_type": "code",
      "source": [
        "from pyspark.sql.functions import to_date\n",
        "# Read in the Review dataset as a DataFrame\n",
        "amazon_review_df = df.select([\"customer_id\", \"review_id\", \"product_id\", \"product_parent\", \"product_title\", \"product_category\", \"star_rating\", \"helpful_votes\", \"total_votes\", \"vine\", \"verified_purchase\", \"review_headline\", \"review_body\", \"review_date\", \"marketplace\"])\n",
        "amazon_review_df.show(5)"
      ],
      "metadata": {
        "colab": {
          "base_uri": "https://localhost:8080/"
        },
        "id": "OomUXXlbc-wx",
        "outputId": "c2799f47-4bf2-4ec1-c61e-4b1f283abf97"
      },
      "execution_count": 5,
      "outputs": [
        {
          "output_type": "stream",
          "name": "stdout",
          "text": [
            "+-----------+--------------+----------+--------------+--------------------+----------------+-----------+-------------+-----------+----+-----------------+--------------------+--------------------+-----------+-----------+\n",
            "|customer_id|     review_id|product_id|product_parent|       product_title|product_category|star_rating|helpful_votes|total_votes|vine|verified_purchase|     review_headline|         review_body|review_date|marketplace|\n",
            "+-----------+--------------+----------+--------------+--------------------+----------------+-----------+-------------+-----------+----+-----------------+--------------------+--------------------+-----------+-----------+\n",
            "|   27288431| R33UPQQUZQEM8|B005T4ND06|     400024643|Yoga for Movement...|       Video DVD|          5|            3|          3|   N|                Y|This was a gift f...|This was a gift f...| 2015-08-31|         US|\n",
            "|   13722556|R3IKTNQQPD9662|B004EPZ070|     685335564|  Something Borrowed|       Video DVD|          5|            0|          0|   N|                Y|          Five Stars| Teats my heart out.| 2015-08-31|         US|\n",
            "|   20381037|R3U27V5QMCP27T|B005S9EKCW|     922008804|Les Miserables (2...|       Video DVD|          5|            1|          1|   N|                Y|        Great movie!|        Great movie.| 2015-08-31|         US|\n",
            "|   24852644|R2TOH2QKNK4IOC|B00FC1ZCB4|     326560548|Alien Anthology a...|       Video DVD|          5|            0|          1|   N|                Y|             Amazing|My husband was so...| 2015-08-31|         US|\n",
            "|   15556113|R2XQG5NJ59UFMY|B002ZG98Z0|     637495038|  Sex and the City 2|       Video DVD|          5|            0|          0|   N|                Y|          Five Stars|   Love this series.| 2015-08-31|         US|\n",
            "+-----------+--------------+----------+--------------+--------------------+----------------+-----------+-------------+-----------+----+-----------------+--------------------+--------------------+-----------+-----------+\n",
            "only showing top 5 rows\n",
            "\n"
          ]
        }
      ]
    },
    {
      "cell_type": "code",
      "source": [
        "# Create the vine_table. DataFrame\n",
        "# vine_df = df.select([])\n",
        "vine_df = amazon_review_df.select([\"review_id\",\"star_rating\",\"helpful_votes\",\"total_votes\",\"vine\",\"verified_purchase\"])\n",
        "vine_df.show()"
      ],
      "metadata": {
        "colab": {
          "base_uri": "https://localhost:8080/"
        },
        "id": "3nw6bgnYdDJZ",
        "outputId": "2e2e23ea-84d6-4ae4-91dd-e918ea3ddb5d"
      },
      "execution_count": 6,
      "outputs": [
        {
          "output_type": "stream",
          "name": "stdout",
          "text": [
            "+--------------+-----------+-------------+-----------+----+-----------------+\n",
            "|     review_id|star_rating|helpful_votes|total_votes|vine|verified_purchase|\n",
            "+--------------+-----------+-------------+-----------+----+-----------------+\n",
            "| R33UPQQUZQEM8|          5|            3|          3|   N|                Y|\n",
            "|R3IKTNQQPD9662|          5|            0|          0|   N|                Y|\n",
            "|R3U27V5QMCP27T|          5|            1|          1|   N|                Y|\n",
            "|R2TOH2QKNK4IOC|          5|            0|          1|   N|                Y|\n",
            "|R2XQG5NJ59UFMY|          5|            0|          0|   N|                Y|\n",
            "|R1N1KHBRR4ZTX3|          5|            0|          0|   N|                Y|\n",
            "|R3OM9S0TCBP38K|          5|            0|          0|   N|                Y|\n",
            "|R1W4S949ZRCTBW|          5|            0|          0|   N|                Y|\n",
            "|R18JL1NNQAZFV2|          5|            0|          0|   N|                Y|\n",
            "|R1LP6PR06OPYUX|          4|            0|          0|   N|                Y|\n",
            "| RZKBT035JA0UQ|          5|            1|          2|   N|                Y|\n",
            "|R253N5W74SM7N3|          4|            1|          1|   N|                Y|\n",
            "|R2D5IFTFPHD3RN|          4|            1|          1|   N|                Y|\n",
            "|R1CECK3H1URK1G|          5|            0|          0|   N|                Y|\n",
            "|R11MHQRE45204T|          5|            0|          0|   N|                Y|\n",
            "| RSX9F068J0GXJ|          5|            0|          0|   N|                Y|\n",
            "|R1TUMFHZBBOWKL|          5|            0|          0|   N|                Y|\n",
            "| R8IZ1G1TWGK0E|          5|            0|          0|   N|                Y|\n",
            "|R1CBN0585B7BI4|          5|            0|          1|   N|                Y|\n",
            "|R2PJOAZ9I3D8O8|          5|            2|          2|   N|                N|\n",
            "+--------------+-----------+-------------+-----------+----+-----------------+\n",
            "only showing top 20 rows\n",
            "\n"
          ]
        }
      ]
    },
    {
      "cell_type": "code",
      "source": [
        "# Filter the data and create a new DataFrame or table to retrieve all the rows where the total_votes count is equal to or greater than 20\n",
        "import pyspark.sql.functions as f\n",
        "vote_total_df = vine_df.filter(f.col(\"total_votes\") >= 20)\n",
        "vote_total_df.show()"
      ],
      "metadata": {
        "colab": {
          "base_uri": "https://localhost:8080/"
        },
        "id": "8oqxmezNdJxH",
        "outputId": "eab5e33a-5eac-4680-fb16-03aef2a62aff"
      },
      "execution_count": 7,
      "outputs": [
        {
          "output_type": "stream",
          "name": "stdout",
          "text": [
            "+--------------+-----------+-------------+-----------+----+-----------------+\n",
            "|     review_id|star_rating|helpful_votes|total_votes|vine|verified_purchase|\n",
            "+--------------+-----------+-------------+-----------+----+-----------------+\n",
            "|R31EUR60FV3BU5|          4|           32|         39|   N|                N|\n",
            "|R12Q1NO1HI9PP4|          1|            4|         86|   N|                N|\n",
            "|R3MDX24QDAT0OW|          4|           35|         37|   N|                N|\n",
            "|R2YVFZB4ESDT7D|          5|          139|        141|   N|                Y|\n",
            "| R6TNONSNFM82I|          1|            0|         28|   N|                Y|\n",
            "|R2R8EWH1JUZCSI|          5|           16|         21|   N|                N|\n",
            "| RUNB838XKMB59|          1|            8|         23|   N|                N|\n",
            "|R3I8GORXGEJL3R|          4|           95|        103|   N|                Y|\n",
            "|R2WFUSIPJ3X0FR|          1|            9|         53|   N|                N|\n",
            "| RONWXF0J85CRR|          5|           42|         50|   N|                N|\n",
            "|R15OUJIUGMTNW7|          1|            1|         33|   N|                N|\n",
            "|R2QQJIJZIUSQBH|          1|           16|         20|   N|                N|\n",
            "| RGWTSZJT5WJ35|          1|            9|         50|   N|                N|\n",
            "|R3O7T74HRIXBE5|          5|           53|         55|   N|                Y|\n",
            "| RSU37FK0W4DPE|          4|           26|         28|   N|                N|\n",
            "|R22H100N6EUD0Y|          5|           30|         32|   N|                Y|\n",
            "| R4VC9LDQGIE5K|          5|           26|         37|   N|                N|\n",
            "| RWMH3PU2EECVA|          5|           35|         38|   N|                Y|\n",
            "|R2XTQWXL65VPOZ|          4|           22|         24|   N|                N|\n",
            "| RGIM9S035SVIA|          4|           38|         44|   N|                N|\n",
            "+--------------+-----------+-------------+-----------+----+-----------------+\n",
            "only showing top 20 rows\n",
            "\n"
          ]
        }
      ]
    },
    {
      "cell_type": "code",
      "source": [
        "# Filter the new DataFrame or table created in Step 1 and create a new DataFrame or table to retrieve all the rows where the number of helpful_votes divided by total_votes is equal to or greater than 50%\n",
        "helpful_vote_df = vote_total_df.withColumn('percent_votes',f.col('helpful_votes')/f.col('total_votes')).alias('percent_votes').filter(f.col(\"percent_votes\")>=0.5)\n",
        "helpful_vote_df.show()"
      ],
      "metadata": {
        "colab": {
          "base_uri": "https://localhost:8080/"
        },
        "id": "BTwlqrvrdYHX",
        "outputId": "b43bbc6a-9912-4470-de8d-f3fcf99437cb"
      },
      "execution_count": 8,
      "outputs": [
        {
          "output_type": "stream",
          "name": "stdout",
          "text": [
            "+--------------+-----------+-------------+-----------+----+-----------------+------------------+\n",
            "|     review_id|star_rating|helpful_votes|total_votes|vine|verified_purchase|     percent_votes|\n",
            "+--------------+-----------+-------------+-----------+----+-----------------+------------------+\n",
            "|R31EUR60FV3BU5|          4|           32|         39|   N|                N|0.8205128205128205|\n",
            "|R3MDX24QDAT0OW|          4|           35|         37|   N|                N|0.9459459459459459|\n",
            "|R2YVFZB4ESDT7D|          5|          139|        141|   N|                Y|0.9858156028368794|\n",
            "|R2R8EWH1JUZCSI|          5|           16|         21|   N|                N|0.7619047619047619|\n",
            "|R3I8GORXGEJL3R|          4|           95|        103|   N|                Y|0.9223300970873787|\n",
            "| RONWXF0J85CRR|          5|           42|         50|   N|                N|              0.84|\n",
            "|R2QQJIJZIUSQBH|          1|           16|         20|   N|                N|               0.8|\n",
            "|R3O7T74HRIXBE5|          5|           53|         55|   N|                Y|0.9636363636363636|\n",
            "| RSU37FK0W4DPE|          4|           26|         28|   N|                N|0.9285714285714286|\n",
            "|R22H100N6EUD0Y|          5|           30|         32|   N|                Y|            0.9375|\n",
            "| R4VC9LDQGIE5K|          5|           26|         37|   N|                N|0.7027027027027027|\n",
            "| RWMH3PU2EECVA|          5|           35|         38|   N|                Y|0.9210526315789473|\n",
            "|R2XTQWXL65VPOZ|          4|           22|         24|   N|                N|0.9166666666666666|\n",
            "| RGIM9S035SVIA|          4|           38|         44|   N|                N|0.8636363636363636|\n",
            "|R18ZPPQ2CZKG41|          5|           16|         20|   N|                N|               0.8|\n",
            "|R2FK3TE1JD2UXM|          5|           40|         44|   N|                N|0.9090909090909091|\n",
            "|R22X6BZQKZA30V|          1|           29|         34|   N|                Y|0.8529411764705882|\n",
            "| RS3V339OCGT2D|          5|           84|         97|   N|                N| 0.865979381443299|\n",
            "| RCZ5IXAQ4J4NQ|          5|           22|         36|   N|                N|0.6111111111111112|\n",
            "| ROS0GMA6IUSCP|          5|           34|         36|   N|                N|0.9444444444444444|\n",
            "+--------------+-----------+-------------+-----------+----+-----------------+------------------+\n",
            "only showing top 20 rows\n",
            "\n"
          ]
        }
      ]
    },
    {
      "cell_type": "code",
      "source": [
        "# Create a new DataFrame that retrieves all the rows where a review was written as part of the Vine program (paid)\n",
        "vine_review_df = helpful_vote_df.filter(f.col(\"vine\") == \"Y\")\n",
        "vine_review_df.show()"
      ],
      "metadata": {
        "colab": {
          "base_uri": "https://localhost:8080/"
        },
        "id": "QiBPFt13dw04",
        "outputId": "446038a2-22ff-40fb-b5a6-740793a09276"
      },
      "execution_count": 10,
      "outputs": [
        {
          "output_type": "stream",
          "name": "stdout",
          "text": [
            "+--------------+-----------+-------------+-----------+----+-----------------+------------------+\n",
            "|     review_id|star_rating|helpful_votes|total_votes|vine|verified_purchase|     percent_votes|\n",
            "+--------------+-----------+-------------+-----------+----+-----------------+------------------+\n",
            "|R3PBQ665MBL8CP|          3|           66|         72|   Y|                N|0.9166666666666666|\n",
            "|R3EMD30K7MNOZ0|          2|           20|         25|   Y|                N|               0.8|\n",
            "|R2GF3ZLO2B0Y71|          5|          236|        243|   Y|                N|0.9711934156378601|\n",
            "|R1F8T2Z7U3N6HL|          3|           11|         20|   Y|                N|              0.55|\n",
            "| R5QTOT1GVR8RG|          4|           16|         20|   Y|                N|               0.8|\n",
            "|R1KAQEESF0NUGV|          4|           27|         29|   Y|                N|0.9310344827586207|\n",
            "|R1621B9AMVWI25|          2|           27|         29|   Y|                N|0.9310344827586207|\n",
            "|R3FVGQVNBAZL8E|          3|           37|         44|   Y|                N|0.8409090909090909|\n",
            "|R26ATTA765WHVX|          5|           21|         23|   Y|                N|0.9130434782608695|\n",
            "| RMZYPFKES1ZK7|          4|           29|         33|   Y|                N|0.8787878787878788|\n",
            "|R14DF0WKENBB1W|          4|           18|         21|   Y|                N|0.8571428571428571|\n",
            "| RP8XXEUSRVK9W|          3|           18|         22|   Y|                N|0.8181818181818182|\n",
            "|R385PHNA6E3GNZ|          5|           32|         43|   Y|                Y|0.7441860465116279|\n",
            "|R3EF1FW33JGPV0|          1|           24|         30|   Y|                N|               0.8|\n",
            "|R1QFLL874C1LYW|          1|           15|         27|   Y|                N|0.5555555555555556|\n",
            "|R3K1A9MD4PVRH4|          2|           26|         37|   Y|                N|0.7027027027027027|\n",
            "| RL6DMOWQJ56DX|          3|           19|         27|   Y|                N|0.7037037037037037|\n",
            "|R2WDJTCP0CO4OF|          4|           26|         28|   Y|                N|0.9285714285714286|\n",
            "| R9XFFVNYHTDOC|          3|          355|        404|   Y|                N|0.8787128712871287|\n",
            "|R1ZMSEURPMYSEB|          4|           18|         20|   Y|                N|               0.9|\n",
            "+--------------+-----------+-------------+-----------+----+-----------------+------------------+\n",
            "only showing top 20 rows\n",
            "\n"
          ]
        }
      ]
    },
    {
      "cell_type": "code",
      "source": [
        "# Repeat Step 3, retrieve all the rows where the review was not part of the Vine program (unpaid)\n",
        "none_vine_review_df = helpful_vote_df.filter(f.col(\"vine\") == \"N\")\n",
        "none_vine_review_df.show()"
      ],
      "metadata": {
        "colab": {
          "base_uri": "https://localhost:8080/"
        },
        "id": "PPo-TnQaeEtD",
        "outputId": "b4631a09-4510-48b0-f8f8-455ee732fa9e"
      },
      "execution_count": 11,
      "outputs": [
        {
          "output_type": "stream",
          "name": "stdout",
          "text": [
            "+--------------+-----------+-------------+-----------+----+-----------------+------------------+\n",
            "|     review_id|star_rating|helpful_votes|total_votes|vine|verified_purchase|     percent_votes|\n",
            "+--------------+-----------+-------------+-----------+----+-----------------+------------------+\n",
            "|R31EUR60FV3BU5|          4|           32|         39|   N|                N|0.8205128205128205|\n",
            "|R3MDX24QDAT0OW|          4|           35|         37|   N|                N|0.9459459459459459|\n",
            "|R2YVFZB4ESDT7D|          5|          139|        141|   N|                Y|0.9858156028368794|\n",
            "|R2R8EWH1JUZCSI|          5|           16|         21|   N|                N|0.7619047619047619|\n",
            "|R3I8GORXGEJL3R|          4|           95|        103|   N|                Y|0.9223300970873787|\n",
            "| RONWXF0J85CRR|          5|           42|         50|   N|                N|              0.84|\n",
            "|R2QQJIJZIUSQBH|          1|           16|         20|   N|                N|               0.8|\n",
            "|R3O7T74HRIXBE5|          5|           53|         55|   N|                Y|0.9636363636363636|\n",
            "| RSU37FK0W4DPE|          4|           26|         28|   N|                N|0.9285714285714286|\n",
            "|R22H100N6EUD0Y|          5|           30|         32|   N|                Y|            0.9375|\n",
            "| R4VC9LDQGIE5K|          5|           26|         37|   N|                N|0.7027027027027027|\n",
            "| RWMH3PU2EECVA|          5|           35|         38|   N|                Y|0.9210526315789473|\n",
            "|R2XTQWXL65VPOZ|          4|           22|         24|   N|                N|0.9166666666666666|\n",
            "| RGIM9S035SVIA|          4|           38|         44|   N|                N|0.8636363636363636|\n",
            "|R18ZPPQ2CZKG41|          5|           16|         20|   N|                N|               0.8|\n",
            "|R2FK3TE1JD2UXM|          5|           40|         44|   N|                N|0.9090909090909091|\n",
            "|R22X6BZQKZA30V|          1|           29|         34|   N|                Y|0.8529411764705882|\n",
            "| RS3V339OCGT2D|          5|           84|         97|   N|                N| 0.865979381443299|\n",
            "| RCZ5IXAQ4J4NQ|          5|           22|         36|   N|                N|0.6111111111111112|\n",
            "| ROS0GMA6IUSCP|          5|           34|         36|   N|                N|0.9444444444444444|\n",
            "+--------------+-----------+-------------+-----------+----+-----------------+------------------+\n",
            "only showing top 20 rows\n",
            "\n"
          ]
        }
      ]
    },
    {
      "cell_type": "code",
      "source": [
        "# Determine the total number of reviews, the number of 5-star reviews, and the percentage of 5-star reviews for the two types of review (paid vs unpaid).\n",
        "reviews_total_df = helpful_vote_df.groupBy(\"vine\").agg(\n",
        "    f.count(f.col(\"vine\")).alias(\"total_reviews\"),\n",
        "    f.count(f.when(f.col(\"star_rating\") == 5, True)).alias(\"5_star_reviews\"),\n",
        "    (f.count(f.when(f.col(\"star_rating\") == 5, True))/f.count(f.col(\"vine\"))*100).alias(\"5_star_%_total\")).show()"
      ],
      "metadata": {
        "colab": {
          "base_uri": "https://localhost:8080/"
        },
        "id": "3z1lNsOPefui",
        "outputId": "efcb1ec6-461a-4e4e-dc7e-1ef26393070b"
      },
      "execution_count": 12,
      "outputs": [
        {
          "output_type": "stream",
          "name": "stdout",
          "text": [
            "+----+-------------+--------------+------------------+\n",
            "|vine|total_reviews|5_star_reviews|    5_star_%_total|\n",
            "+----+-------------+--------------+------------------+\n",
            "|   Y|           49|             9|18.367346938775512|\n",
            "|   N|       151400|         78061| 51.55944517833554|\n",
            "+----+-------------+--------------+------------------+\n",
            "\n"
          ]
        }
      ]
    }
  ]
}